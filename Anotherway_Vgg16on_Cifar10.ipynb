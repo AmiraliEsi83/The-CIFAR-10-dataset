{
  "nbformat": 4,
  "nbformat_minor": 0,
  "metadata": {
    "colab": {
      "provenance": [],
      "authorship_tag": "ABX9TyNdUA5vGSqV7C3jXpyq55Wa",
      "include_colab_link": true
    },
    "kernelspec": {
      "name": "python3",
      "display_name": "Python 3"
    },
    "language_info": {
      "name": "python"
    }
  },
  "cells": [
    {
      "cell_type": "markdown",
      "metadata": {
        "id": "view-in-github",
        "colab_type": "text"
      },
      "source": [
        "<a href=\"https://colab.research.google.com/github/AmiraliEsi83/The-CIFAR-10-dataset/blob/main/Anotherway_Vgg16on_Cifar10.ipynb\" target=\"_parent\"><img src=\"https://colab.research.google.com/assets/colab-badge.svg\" alt=\"Open In Colab\"/></a>"
      ]
    },
    {
      "cell_type": "code",
      "execution_count": null,
      "metadata": {
        "id": "LT8MqAdh66qX"
      },
      "outputs": [],
      "source": [
        "import tensorflow as tf\n",
        "import tensorflow.keras as K\n",
        "import numpy as np\n",
        "import matplotlib.pyplot as plt\n",
        "%matplotlib inline"
      ]
    },
    {
      "cell_type": "code",
      "source": [
        "def preprocess_data(X, Y):\n",
        "    \"\"\"\n",
        "    function that pre-processes the CIFAR10 dataset \n",
        "    \"\"\"\n",
        "    X = K.applications.vgg16.preprocess_input(X)\n",
        "    Y = K.utils.to_categorical(Y)\n",
        "    return X, Y"
      ],
      "metadata": {
        "id": "BtKm3nyh7E9I"
      },
      "execution_count": null,
      "outputs": []
    },
    {
      "cell_type": "code",
      "source": [
        "# load the Cifar10 dataset, 50,000 training images\n",
        "# and 10,000 test images (here used as validation data)\n",
        "(x_train, y_train), (x_test, y_test) = K.datasets.cifar10.load_data()\n",
        "# preprocess the data using the application's preprocess_input method and convert the labels to one-hot encodings\n",
        "x_train, y_train = preprocess_data(x_train, y_train)\n",
        "x_test, y_test = preprocess_data(x_test, y_test)"
      ],
      "metadata": {
        "id": "6pqPyvSg7E5v"
      },
      "execution_count": null,
      "outputs": []
    },
    {
      "cell_type": "code",
      "source": [
        "from sklearn.model_selection import train_test_split\n",
        "x_train, x_validate, y_train, y_validate = train_test_split(x_train, y_train, test_size=0.2, random_state=12345)"
      ],
      "metadata": {
        "id": "EP9Ujzyz7E2o"
      },
      "execution_count": null,
      "outputs": []
    },
    {
      "cell_type": "code",
      "source": [
        "initializer = K.initializers.he_normal()\n",
        "input_tensor = K.Input(shape=(32, 32, 3))\n",
        "# resize images to the image size upon which the network\n",
        "\n",
        "resized_images = K.layers.Lambda(lambda image: tf.image.resize(image, (224, 224)))(input_tensor)\n",
        "model = K.applications.VGG16(include_top=False,\n",
        "                                   weights='imagenet',\n",
        "                                   input_tensor=resized_images,\n",
        "                                   input_shape=(224, 224, 3),\n",
        "                                   pooling='max',\n",
        "                                   classes=1000)\n",
        "# make the weights and biases of the base model non-trainable\n",
        "\n",
        "for layer in model.layers:\n",
        "    layer.trainable = False\n",
        "output = model.layers[-1].output\n",
        "# reshape the output feature map of the base model before passing the data on to the Dense layers of the classifier head\n",
        "flatten = K.layers.Flatten()\n",
        "output = flatten(output)\n",
        "layer_256 = K.layers.Dense(units=256,\n",
        "                           activation='elu',\n",
        "                           kernel_initializer=initializer,\n",
        "                           kernel_regularizer=K.regularizers.l2())\n",
        "output = layer_256(output)\n",
        "dropout = K.layers.Dropout(0.5)\n",
        "output = dropout(output)\n",
        "softmax = K.layers.Dense(units=10,\n",
        "                         activation='softmax',\n",
        "                         kernel_initializer=initializer,\n",
        "                         kernel_regularizer=K.regularizers.l2())\n",
        "output = softmax(output)\n",
        "model = K.models.Model(inputs=input_tensor, outputs=output)"
      ],
      "metadata": {
        "id": "h0s60RRc7Eyd"
      },
      "execution_count": null,
      "outputs": []
    },
    {
      "cell_type": "code",
      "source": [
        "model.compile(\n",
        "         optimizer=K.optimizers.Adam(learning_rate=1e-4),\n",
        "         loss='categorical_crossentropy',\n",
        "         metrics=['accuracy'])"
      ],
      "metadata": {
        "id": "CLXJl0Ph7EvK"
      },
      "execution_count": null,
      "outputs": []
    },
    {
      "cell_type": "code",
      "source": [
        "# stop training when val_accuracy has stopped improving\n",
        "early_stop = K.callbacks.EarlyStopping(monitor='val_accuracy',\n",
        "                                       patience=3,\n",
        "                                       verbose=1,\n",
        "                                       mode='max')"
      ],
      "metadata": {
        "id": "uPF3K6-p7Era"
      },
      "execution_count": null,
      "outputs": []
    },
    {
      "cell_type": "code",
      "source": [
        "history = model.fit(x_train,y_train,\n",
        "                    validation_data=(x_validate, y_validate),\n",
        "                    epochs=100,\n",
        "                    callbacks=[early_stop],\n",
        "                    verbose=1)\n"
      ],
      "metadata": {
        "id": "s6GskCHE7El8"
      },
      "execution_count": null,
      "outputs": []
    },
    {
      "cell_type": "code",
      "source": [
        "evaluation = model.evaluate(x_test,y_test)\n",
        "print(f\"Test accuracy: {evaluation[1]*100:.2f}%\")"
      ],
      "metadata": {
        "id": "5E6bfo-07UaE"
      },
      "execution_count": null,
      "outputs": []
    },
    {
      "cell_type": "code",
      "source": [
        "predicted_classes = model.predict(x_test)\n",
        "len(predicted_classes)"
      ],
      "metadata": {
        "id": "_gfrju6D7V_y"
      },
      "execution_count": null,
      "outputs": []
    },
    {
      "cell_type": "code",
      "source": [
        "print(predicted_classes[0])\n",
        "y_test[0]"
      ],
      "metadata": {
        "id": "C9qmLwPQ7V9L"
      },
      "execution_count": null,
      "outputs": []
    },
    {
      "cell_type": "code",
      "source": [
        "np.argmax(predicted_classes[0])"
      ],
      "metadata": {
        "id": "TcTiz4lv7V6R"
      },
      "execution_count": null,
      "outputs": []
    },
    {
      "cell_type": "code",
      "source": [
        "y_test[0]"
      ],
      "metadata": {
        "id": "HNMQmVQM7V2Y"
      },
      "execution_count": null,
      "outputs": []
    },
    {
      "cell_type": "code",
      "source": [
        "fig, axes = plt.subplots(5,5,figsize=(12,12))\n",
        "axes = axes.ravel()\n",
        "print(axes.shape)\n",
        "x_test[0].shape\n",
        "for i in np.arange(0,25):\n",
        "  axes[i].imshow(x_test[i].reshape(28,28))\n",
        "  axes[i].set_title(f\"Prediction Class = {np.argmax(predicted_classes[i]):.1f}\\nTrue class = {y_test[i]}\")\n",
        "\n",
        "\n",
        "  axes[i].axis('off')\n",
        "\n",
        "plt.subplots_adjust(wspace=0.5)"
      ],
      "metadata": {
        "id": "Ms4l7UIt7bRx"
      },
      "execution_count": null,
      "outputs": []
    },
    {
      "cell_type": "code",
      "source": [
        "from vis.utils import utils"
      ],
      "metadata": {
        "id": "SdLot5oz7bO6"
      },
      "execution_count": null,
      "outputs": []
    },
    {
      "cell_type": "code",
      "source": [
        "# swap softmax layer with linear layer \n",
        "layer_idx = utils.find_layer_idx(model, 'predictions')\n",
        "model.layers[-1].activation = tf.keras.activations.linear\n",
        "model = utils.apply_modifications(model)"
      ],
      "metadata": {
        "id": "UwQEZS687bMU"
      },
      "execution_count": null,
      "outputs": []
    },
    {
      "cell_type": "code",
      "source": [
        "!pip install tf-keras-vis"
      ],
      "metadata": {
        "id": "dlPSxlPB7bJv"
      },
      "execution_count": null,
      "outputs": []
    },
    {
      "cell_type": "code",
      "source": [
        "from matplotlib import cm\n",
        "from tf_keras_vis.gradcam import Gradcam"
      ],
      "metadata": {
        "id": "apchvaOP7gsK"
      },
      "execution_count": null,
      "outputs": []
    },
    {
      "cell_type": "code",
      "source": [
        "gradCam = Gradcam(model, clone =True)"
      ],
      "metadata": {
        "id": "aw5fioSE7gqE"
      },
      "execution_count": null,
      "outputs": []
    },
    {
      "cell_type": "code",
      "source": [
        "from matplotlib.pyplot import plt"
      ],
      "metadata": {
        "id": "dlKorJ3s7gmb"
      },
      "execution_count": null,
      "outputs": []
    },
    {
      "cell_type": "code",
      "source": [
        "from tf_keras_vis.utils.scores import CategoricalScore\n",
        "\n",
        "score = CategoricalScore([3, 8, 8 , 0])"
      ],
      "metadata": {
        "id": "eGuODm0n7gji"
      },
      "execution_count": null,
      "outputs": []
    },
    {
      "cell_type": "code",
      "source": [
        "input_classes = ['cat', 'ship', 'ship', 'airplain']"
      ],
      "metadata": {
        "id": "YJN91ZlF7pWw"
      },
      "execution_count": null,
      "outputs": []
    },
    {
      "cell_type": "code",
      "source": [
        "images = [x_test[0], x_test[1], x_test[2], x_test[3]]"
      ],
      "metadata": {
        "id": "xCLTcXHS7pUg"
      },
      "execution_count": null,
      "outputs": []
    },
    {
      "cell_type": "code",
      "source": [
        "y_test[3]"
      ],
      "metadata": {
        "id": "cTzm_Smj7pRX"
      },
      "execution_count": null,
      "outputs": []
    },
    {
      "cell_type": "code",
      "source": [
        "plt.imshow(x_test[100])"
      ],
      "metadata": {
        "id": "XHMx6Gey7pOm"
      },
      "execution_count": null,
      "outputs": []
    },
    {
      "cell_type": "code",
      "source": [
        "from tensorflow.keras.applications.vgg16 import preprocess_input"
      ],
      "metadata": {
        "id": "IsTl74477pL6"
      },
      "execution_count": null,
      "outputs": []
    },
    {
      "cell_type": "code",
      "source": [
        "input_images = preprocess_input(images)"
      ],
      "metadata": {
        "id": "3MHCRZkE7pI1"
      },
      "execution_count": null,
      "outputs": []
    },
    {
      "cell_type": "code",
      "source": [
        "cam = gradCam(score, input_images, penultimate_layer=-1)"
      ],
      "metadata": {
        "id": "wboQ0X9j7wSn"
      },
      "execution_count": null,
      "outputs": []
    },
    {
      "cell_type": "code",
      "source": [
        "f, ax = plt.subplots(nrows = 1, ncols = 4, figsize=(12,4))\n",
        "for i, img_class in enumerate(input_classes):\n",
        "    heatmap = np.uint8(cm.jet(cam[i])[..., :4] * 255)\n",
        "    ax[i].set_title(img_class, fontsize=16)\n",
        "    ax[i].imshow(x_test[i])\n",
        "    ax[i].imshow(heatmap, cmap='jet', alpha=0.2) \n",
        "    ax[i].axis('off')\n",
        "plt.tight_layout()\n",
        "plt.show()"
      ],
      "metadata": {
        "id": "2da_oOPT7xFZ"
      },
      "execution_count": null,
      "outputs": []
    }
  ]
}
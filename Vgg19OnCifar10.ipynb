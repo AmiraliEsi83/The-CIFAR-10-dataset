{
  "nbformat": 4,
  "nbformat_minor": 0,
  "metadata": {
    "colab": {
      "provenance": [],
      "authorship_tag": "ABX9TyPhxYc5VudcZg1GW5Q0HgO2",
      "include_colab_link": true
    },
    "kernelspec": {
      "name": "python3",
      "display_name": "Python 3"
    },
    "language_info": {
      "name": "python"
    }
  },
  "cells": [
    {
      "cell_type": "markdown",
      "metadata": {
        "id": "view-in-github",
        "colab_type": "text"
      },
      "source": [
        "<a href=\"https://colab.research.google.com/github/AmiraliEsi83/The-CIFAR-10-dataset/blob/main/Vgg19OnCifar10.ipynb\" target=\"_parent\"><img src=\"https://colab.research.google.com/assets/colab-badge.svg\" alt=\"Open In Colab\"/></a>"
      ]
    },
    {
      "cell_type": "code",
      "execution_count": null,
      "metadata": {
        "id": "cxfOt_tqKHzQ"
      },
      "outputs": [],
      "source": [
        "import tensorflow.keras as tk\n",
        "import pandas as pd\n",
        "import numpy as np\n",
        "import tensorflow as tf\n",
        "import matplotlib.pyplot as plt\n",
        "from tensorflow.keras.applications.vgg19 import VGG19\n",
        "from tensorflow.keras.layers import Dense, Flatten, Dropout\n",
        "from sklearn.metrics import accuracy_score\n",
        "from tensorflow.keras.models import Sequential"
      ]
    },
    {
      "cell_type": "code",
      "source": [
        "(x_train, y_train), (x_test, y_test) = tk.datasets.cifar10.load_data()"
      ],
      "metadata": {
        "id": "H4az3kBkKPsU"
      },
      "execution_count": null,
      "outputs": []
    },
    {
      "cell_type": "code",
      "source": [
        "x_train.shape"
      ],
      "metadata": {
        "id": "Fu3uN11bKPjL"
      },
      "execution_count": null,
      "outputs": []
    },
    {
      "cell_type": "code",
      "source": [
        "y_train"
      ],
      "metadata": {
        "id": "sGt5QpCyKPgL"
      },
      "execution_count": null,
      "outputs": []
    },
    {
      "cell_type": "code",
      "source": [
        "y_train.shape"
      ],
      "metadata": {
        "id": "bUQkH-TuKPde"
      },
      "execution_count": null,
      "outputs": []
    },
    {
      "cell_type": "code",
      "source": [
        "classes = np.unique(y_train)"
      ],
      "metadata": {
        "id": "zxwf7cVgKPbJ"
      },
      "execution_count": null,
      "outputs": []
    },
    {
      "cell_type": "code",
      "source": [
        "len(classes)"
      ],
      "metadata": {
        "id": "V5rQyNiCKPYT"
      },
      "execution_count": null,
      "outputs": []
    },
    {
      "cell_type": "code",
      "source": [
        "x_train[22].shape"
      ],
      "metadata": {
        "id": "4fifbgO_KPVQ"
      },
      "execution_count": null,
      "outputs": []
    },
    {
      "cell_type": "code",
      "source": [
        "plt.imshow(x_train[22]);"
      ],
      "metadata": {
        "id": "kutkt1dQKPSc"
      },
      "execution_count": null,
      "outputs": []
    },
    {
      "cell_type": "code",
      "source": [
        "x_train[22]"
      ],
      "metadata": {
        "id": "O9DUe9CpKPPL"
      },
      "execution_count": null,
      "outputs": []
    },
    {
      "cell_type": "code",
      "source": [
        "type(x_train)"
      ],
      "metadata": {
        "id": "dHMhcP9LKPMS"
      },
      "execution_count": null,
      "outputs": []
    },
    {
      "cell_type": "code",
      "source": [
        "x_train = x_train/255"
      ],
      "metadata": {
        "id": "lt-RNbOeKPJK"
      },
      "execution_count": null,
      "outputs": []
    },
    {
      "cell_type": "code",
      "source": [
        "type(x_train)"
      ],
      "metadata": {
        "id": "tRLXz2MIKPGk"
      },
      "execution_count": null,
      "outputs": []
    },
    {
      "cell_type": "code",
      "source": [
        "plt.imshow(x_train[22]);"
      ],
      "metadata": {
        "id": "5QjUVvxyKPDt"
      },
      "execution_count": null,
      "outputs": []
    },
    {
      "cell_type": "code",
      "source": [
        "x_train"
      ],
      "metadata": {
        "id": "5Zjn4WPMKPAr"
      },
      "execution_count": null,
      "outputs": []
    },
    {
      "cell_type": "code",
      "source": [
        "y_train[0].shape"
      ],
      "metadata": {
        "id": "9GtLjJj_KO9u"
      },
      "execution_count": null,
      "outputs": []
    },
    {
      "cell_type": "code",
      "source": [
        "x_test = x_test/255"
      ],
      "metadata": {
        "id": "lbQYSz_YKO7Z"
      },
      "execution_count": null,
      "outputs": []
    },
    {
      "cell_type": "code",
      "source": [
        "w_grid = 15\n",
        "l_grid = 15\n",
        "\n",
        "fig, axes = plt.subplots(w_grid,l_grid, figsize=(17,17))\n",
        "axes = axes.ravel()\n",
        "n_training = len(x_train)\n",
        "for i in np.arange(0, w_grid * l_grid):\n",
        "  index = np.random.randint(0, n_training)\n",
        " \n",
        "  axes[i].imshow(x_train[index])\n",
        "  axes[i].set_title(y_train[index], fontsize=10)\n",
        "  axes[i].axis('off')\n",
        "fig.tight_layout()"
      ],
      "metadata": {
        "id": "mnJmSpUDKO4f"
      },
      "execution_count": null,
      "outputs": []
    },
    {
      "cell_type": "code",
      "source": [
        "vgg19_model = VGG19(weights='imagenet',\n",
        "                    include_top=False, \n",
        "                    classes=10,\n",
        "                    input_shape=(32,32,3)# input: 32x32 images with 3 channels -> (32, 32, 3) tensors.\n",
        "                   )"
      ],
      "metadata": {
        "id": "UoXAq8EHKO1t"
      },
      "execution_count": null,
      "outputs": []
    },
    {
      "cell_type": "code",
      "source": [
        "model = Sequential()\n",
        "for layer in vgg19_model.layers:\n",
        "    model.add(layer)"
      ],
      "metadata": {
        "id": "JrFgo6DqKOzi"
      },
      "execution_count": null,
      "outputs": []
    },
    {
      "cell_type": "code",
      "source": [
        "from tensorflow.keras.layers import Dense, Flatten, Dropout\n",
        "model.add(Flatten())\n",
        "model.add(Dense(4096, activation='relu', name='hidden1'))\n",
        "# model.add(Dropout(0.4))\n",
        "# model.add(Dense(4096, activation='relu', name='hidden2'))\n",
        "# model.add(Dropout(0.4))\n",
        "model.add(Dense(10, activation='softmax', name='predictions'))\n",
        "\n",
        "model.summary()"
      ],
      "metadata": {
        "id": "sGCr5d8iKOmI"
      },
      "execution_count": null,
      "outputs": []
    },
    {
      "cell_type": "code",
      "source": [
        "from sklearn.model_selection import train_test_split\n",
        "x_train, x_validate, y_train, y_validate = train_test_split(x_train, y_train, test_size=0.2, random_state=12345)"
      ],
      "metadata": {
        "id": "Zge6JeDJKOi9"
      },
      "execution_count": null,
      "outputs": []
    },
    {
      "cell_type": "code",
      "source": [
        "model.compile(optimizer='adam',\n",
        "              loss=tf.keras.losses.SparseCategoricalCrossentropy(from_logits=True),\n",
        "              metrics=['accuracy'])"
      ],
      "metadata": {
        "id": "CixSV9xMKtKP"
      },
      "execution_count": null,
      "outputs": []
    },
    {
      "cell_type": "code",
      "source": [
        "history = model.fit(x_train, y_train, epochs=100, \n",
        "                    validation_data=(x_validate, y_validate))"
      ],
      "metadata": {
        "id": "KvbushHUKtG-"
      },
      "execution_count": null,
      "outputs": []
    },
    {
      "cell_type": "code",
      "source": [
        "evaluation = model.evaluate(x_test,y_test)\n",
        "print(f\"Test accuracy: {evaluation[1]*100:.2f}%\")"
      ],
      "metadata": {
        "id": "eEHpoy8LKs_0"
      },
      "execution_count": null,
      "outputs": []
    },
    {
      "cell_type": "code",
      "source": [
        "predicted_classes = model.predict(x_test)\n",
        "len(predicted_classes)"
      ],
      "metadata": {
        "id": "Gp1kK1NHKs8_"
      },
      "execution_count": null,
      "outputs": []
    },
    {
      "cell_type": "code",
      "source": [
        "print(predicted_classes[0])\n",
        "y_test[0]"
      ],
      "metadata": {
        "id": "X_H-7RP5Ks6I"
      },
      "execution_count": null,
      "outputs": []
    },
    {
      "cell_type": "code",
      "source": [
        "np.argmax(predicted_classes[0])"
      ],
      "metadata": {
        "id": "k-hdg_ygKs3Q"
      },
      "execution_count": null,
      "outputs": []
    },
    {
      "cell_type": "code",
      "source": [
        "y_test[0]"
      ],
      "metadata": {
        "id": "oYQReNVJL3kK"
      },
      "execution_count": null,
      "outputs": []
    },
    {
      "cell_type": "code",
      "source": [
        "fig, axes = plt.subplots(5,5,figsize=(12,12))\n",
        "axes = axes.ravel()\n",
        "print(axes.shape)\n",
        "x_test[0].shape\n",
        "for i in np.arange(0,25):\n",
        "  axes[i].imshow(x_test[i].reshape(28,28))\n",
        "  axes[i].set_title(f\"Prediction Class = {np.argmax(predicted_classes[i]):.1f}\\nTrue class = {y_test[i]}\")\n",
        "\n",
        "\n",
        "  axes[i].axis('off')\n",
        "\n",
        "plt.subplots_adjust(wspace=0.5)"
      ],
      "metadata": {
        "id": "ae6wuiQ6L3hH"
      },
      "execution_count": null,
      "outputs": []
    },
    {
      "cell_type": "code",
      "source": [
        "from vis.utils import utils"
      ],
      "metadata": {
        "id": "cMLbm5uIL3eo"
      },
      "execution_count": null,
      "outputs": []
    },
    {
      "cell_type": "code",
      "source": [
        "# swap softmax layer with linear layer \n",
        "layer_idx = utils.find_layer_idx(model, 'predictions')\n",
        "model.layers[-1].activation = tf.keras.activations.linear\n",
        "model = utils.apply_modifications(model)"
      ],
      "metadata": {
        "id": "9SI2R86gL3a4"
      },
      "execution_count": null,
      "outputs": []
    },
    {
      "cell_type": "code",
      "source": [
        "!pip install tf-keras-vis"
      ],
      "metadata": {
        "id": "tp1lDF4bL-HQ"
      },
      "execution_count": null,
      "outputs": []
    },
    {
      "cell_type": "code",
      "source": [
        "from matplotlib import cm\n",
        "from tf_keras_vis.gradcam import Gradcam"
      ],
      "metadata": {
        "id": "4gIbQR7dL-ES"
      },
      "execution_count": null,
      "outputs": []
    },
    {
      "cell_type": "code",
      "source": [
        "gradCam = Gradcam(model, clone =True)"
      ],
      "metadata": {
        "id": "-tcYkHRYL-BF"
      },
      "execution_count": null,
      "outputs": []
    },
    {
      "cell_type": "code",
      "source": [
        "from matplotlib.pyplot import plt"
      ],
      "metadata": {
        "id": "MjkIW3PxL9-e"
      },
      "execution_count": null,
      "outputs": []
    },
    {
      "cell_type": "code",
      "source": [
        "from tf_keras_vis.utils.scores import CategoricalScore\n",
        "\n",
        "score = CategoricalScore([3, 8, 8 , 0])"
      ],
      "metadata": {
        "id": "fGi35psAL97m"
      },
      "execution_count": null,
      "outputs": []
    },
    {
      "cell_type": "code",
      "source": [
        "input_classes = ['cat', 'ship', 'ship', 'airplain']"
      ],
      "metadata": {
        "id": "DbaI6mKWMEiG"
      },
      "execution_count": null,
      "outputs": []
    },
    {
      "cell_type": "code",
      "source": [
        "type(x_test)"
      ],
      "metadata": {
        "id": "lCepOuOkMEfH"
      },
      "execution_count": null,
      "outputs": []
    },
    {
      "cell_type": "code",
      "source": [
        "images = [x_test[0], x_test[1], x_test[2], x_test[3]]"
      ],
      "metadata": {
        "id": "G73mzydQMEcG"
      },
      "execution_count": null,
      "outputs": []
    },
    {
      "cell_type": "code",
      "source": [
        "y_test[3]"
      ],
      "metadata": {
        "id": "ALhzEScAMJOg"
      },
      "execution_count": null,
      "outputs": []
    },
    {
      "cell_type": "code",
      "source": [
        "plt.imshow(x_test[100])\n",
        "# y_test[1]"
      ],
      "metadata": {
        "id": "plHG4FzdMJJU"
      },
      "execution_count": null,
      "outputs": []
    },
    {
      "cell_type": "code",
      "source": [
        "from tensorflow.keras.applications.vgg16 import preprocess_input"
      ],
      "metadata": {
        "id": "Xo2n8Xt-MJGC"
      },
      "execution_count": null,
      "outputs": []
    },
    {
      "cell_type": "code",
      "source": [
        "input_images = preprocess_input(images)"
      ],
      "metadata": {
        "id": "mMvpzNkRMJDC"
      },
      "execution_count": null,
      "outputs": []
    },
    {
      "cell_type": "code",
      "source": [
        "input_images"
      ],
      "metadata": {
        "id": "F6Kw6gKJMI_a"
      },
      "execution_count": null,
      "outputs": []
    },
    {
      "cell_type": "code",
      "source": [
        "# plt.imshow(x_test[1])\n",
        "y_test[3]"
      ],
      "metadata": {
        "id": "7w7MbbhBMORd"
      },
      "execution_count": null,
      "outputs": []
    },
    {
      "cell_type": "markdown",
      "source": [
        "Generate Heatmap"
      ],
      "metadata": {
        "id": "B1GQd3A2MfSC"
      }
    },
    {
      "cell_type": "code",
      "source": [
        "cam = gradCam(score, input_images, penultimate_layer=-1)"
      ],
      "metadata": {
        "id": "OeJWkwxCMO4P"
      },
      "execution_count": null,
      "outputs": []
    },
    {
      "cell_type": "markdown",
      "source": [
        "show generated images"
      ],
      "metadata": {
        "id": "tdIn2xjvMZur"
      }
    },
    {
      "cell_type": "code",
      "source": [
        "f, ax = plt.subplots(nrows = 1, ncols = 4, figsize=(12,4))\n",
        "for i, img_class in enumerate(input_classes):\n",
        "    heatmap = np.uint8(cm.jet(cam[i])[..., :4] * 255)\n",
        "    ax[i].set_title(img_class, fontsize=16)\n",
        "    ax[i].imshow(x_test[i])\n",
        "    ax[i].imshow(heatmap, cmap='jet', alpha=0.2) \n",
        "    ax[i].axis('off')\n",
        "plt.tight_layout()\n",
        "plt.show()"
      ],
      "metadata": {
        "id": "_5Mwv3SNMR_h"
      },
      "execution_count": null,
      "outputs": []
    }
  ]
}
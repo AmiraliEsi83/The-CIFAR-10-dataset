{
  "nbformat": 4,
  "nbformat_minor": 0,
  "metadata": {
    "colab": {
      "provenance": [],
      "authorship_tag": "ABX9TyMA9+s97Dfcj6tZsKMMz79Z",
      "include_colab_link": true
    },
    "kernelspec": {
      "name": "python3",
      "display_name": "Python 3"
    },
    "language_info": {
      "name": "python"
    }
  },
  "cells": [
    {
      "cell_type": "markdown",
      "metadata": {
        "id": "view-in-github",
        "colab_type": "text"
      },
      "source": [
        "<a href=\"https://colab.research.google.com/github/AmiraliEsi83/The-CIFAR-10-dataset/blob/main/mobilenetv2oncfar10.ipynb\" target=\"_parent\"><img src=\"https://colab.research.google.com/assets/colab-badge.svg\" alt=\"Open In Colab\"/></a>"
      ]
    },
    {
      "cell_type": "code",
      "execution_count": null,
      "metadata": {
        "id": "_ai1lK7F25tV"
      },
      "outputs": [],
      "source": [
        "# Importing Packages\n",
        "import numpy as np # linear algebra\n",
        "import pandas as pd # data processing, CSV file I/O (e.g. pd.read_csv)\n",
        "import tensorflow as tf\n",
        "from tensorflow import keras\n",
        "import matplotlib.pyplot as plt\n",
        "import os\n",
        "\n",
        "from keras.preprocessing import image\n",
        "from keras.models import Model\n",
        "from keras.applications import imagenet_utils\n",
        "from keras.layers import Dense,GlobalAveragePooling2D\n",
        "from keras.applications.mobilenet import MobileNet\n",
        "\n",
        "import tensorflow.keras\n",
        "import tensorflow as tf\n",
        "from tensorflow.keras.models import Sequential\n",
        "from keras import optimizers\n",
        "from keras.layers import Resizing\n",
        "from tensorflow.keras.layers import Dense, Activation, Dropout, Flatten,Conv2D, MaxPooling2D,BatchNormalization,LayerNormalization"
      ]
    },
    {
      "cell_type": "code",
      "source": [
        "# Loading the Dataset and getting size of it\n",
        "(x_train, y_train), (x_test, y_test) = keras.datasets.cifar10.load_data()\n",
        "print(\"Size of the train images\", x_train.shape)\n",
        "print(\"Size of the test images\", x_test.shape)"
      ],
      "metadata": {
        "id": "eqm5xZhe3BNG"
      },
      "execution_count": null,
      "outputs": []
    },
    {
      "cell_type": "code",
      "source": [
        "x_test, y_test = x_test[:5000], y_test[:5000]\n",
        "x_val, y_val = x_train[:5000], y_train[:5000]\n",
        "x_train, y_train = x_train[30000:], y_train[30000:]"
      ],
      "metadata": {
        "id": "lo75wTC73CBb"
      },
      "execution_count": null,
      "outputs": []
    },
    {
      "cell_type": "code",
      "source": [
        "y_train"
      ],
      "metadata": {
        "id": "fV4aDOEG3B-D"
      },
      "execution_count": null,
      "outputs": []
    },
    {
      "cell_type": "code",
      "source": [
        "print(\"Training data size: \", x_train.shape)\n",
        "print(\"Validation data size: \", x_val.shape)\n",
        "print(\"Test data size: \", x_test.shape)\n",
        "print(\"Training data Labels\", y_train.shape)\n",
        "print(\"Validation data Labels\", y_val.shape)"
      ],
      "metadata": {
        "id": "w5uiLJHy3B5G"
      },
      "execution_count": null,
      "outputs": []
    },
    {
      "cell_type": "code",
      "source": [
        "from keras.utils import np_utils\n",
        "\n",
        "num_classes = 10\n",
        "\n",
        "# Convert class vectors to binary class matrices.\n",
        "y_train = np_utils.to_categorical(y_train, num_classes)\n",
        "y_test = np_utils.to_categorical(y_test, num_classes)\n",
        "y_val = np_utils.to_categorical(y_val, num_classes)"
      ],
      "metadata": {
        "id": "-BgMw7Xd3B0d"
      },
      "execution_count": null,
      "outputs": []
    },
    {
      "cell_type": "code",
      "source": [
        "y_train"
      ],
      "metadata": {
        "id": "lvGHAf7X3q25"
      },
      "execution_count": null,
      "outputs": []
    },
    {
      "cell_type": "code",
      "source": [
        "from sklearn.utils import shuffle\n",
        "\n",
        "x_val, y_val  = shuffle(x_val, y_val)\n",
        "x_train, y_train = shuffle(x_train, y_train)"
      ],
      "metadata": {
        "id": "rjpQ4Frf3qzw"
      },
      "execution_count": null,
      "outputs": []
    },
    {
      "cell_type": "code",
      "source": [
        "# Base model for the mobilenet model\n",
        "mobnet_model=MobileNet(weights='imagenet',include_top=False) #imports the mobilenet model and discards the last 1000 neuron layer."
      ],
      "metadata": {
        "id": "LC2jsj7N3qxc"
      },
      "execution_count": null,
      "outputs": []
    },
    {
      "cell_type": "code",
      "source": [
        "image_size = (224,224)\n",
        "\n",
        "from keras import layers\n",
        "from keras import models\n",
        "\n",
        "num_classes = 10\n",
        "\n",
        "model1 = Sequential()\n",
        "keras.layers.experimental.preprocessing.Resizing(image_size[0], image_size[1], interpolation=\"bilinear\", input_shape=x_train.shape[1:]),\n",
        "           \n",
        "model1.add(mobnet_model) \n",
        "model1.add(GlobalAveragePooling2D())\n",
        "\n",
        "model1.add(Dense(1024,activation=('relu')))\n",
        "model1.add(Dense(512,activation=('relu'))) \n",
        "model1.add(Dense(256,activation=('relu'))) \n",
        "model1.add(Dropout(0.5))\n",
        "model1.add(Dense(128,activation=('relu')))\n",
        "model1.add(Dropout(0.5))\n",
        "model1.add(Dense(10,activation=('softmax')))\n",
        "\n",
        "\n",
        "model1.compile(loss='categorical_crossentropy',\n",
        "              optimizer= 'Adam',\n",
        "              metrics=['acc'])\n",
        "# Creating the model and compiling it\n",
        "model1.compile(optimizer='Adam',loss='categorical_crossentropy',metrics=['accuracy'])\n",
        "# a summary of the model\n",
        "model1.summary()"
      ],
      "metadata": {
        "id": "l3nyIKCK3quj"
      },
      "execution_count": null,
      "outputs": []
    },
    {
      "cell_type": "code",
      "source": [
        "# training the model for 20 epochs\n",
        "history = model1.fit(x_train, y_train, batch_size = 64, epochs = 1, validation_data = (x_test, y_test))"
      ],
      "metadata": {
        "id": "Lqj1LYKM3qrb"
      },
      "execution_count": null,
      "outputs": []
    },
    {
      "cell_type": "code",
      "source": [
        "evaluation = model.evaluate(x_test,y_test)\n",
        "print(f\"Test accuracy: {evaluation[1]*100:.2f}%\")"
      ],
      "metadata": {
        "id": "vOsKTFfo5VW3"
      },
      "execution_count": null,
      "outputs": []
    },
    {
      "cell_type": "code",
      "source": [
        "predicted_classes = model.predict(x_test)\n",
        "len(predicted_classes)"
      ],
      "metadata": {
        "id": "4_FPGUjP5XnH"
      },
      "execution_count": null,
      "outputs": []
    },
    {
      "cell_type": "code",
      "source": [
        "print(predicted_classes[0])\n",
        "y_test[0]"
      ],
      "metadata": {
        "id": "jcazxjIQ5aVZ"
      },
      "execution_count": null,
      "outputs": []
    },
    {
      "cell_type": "code",
      "source": [
        "np.argmax(predicted_classes[0])"
      ],
      "metadata": {
        "id": "ZeZLOel35aSN"
      },
      "execution_count": null,
      "outputs": []
    },
    {
      "cell_type": "code",
      "source": [
        "y_test[0]"
      ],
      "metadata": {
        "id": "UL-9jcKr5aPp"
      },
      "execution_count": null,
      "outputs": []
    },
    {
      "cell_type": "code",
      "source": [
        "fig, axes = plt.subplots(5,5,figsize=(12,12))\n",
        "axes = axes.ravel()\n",
        "print(axes.shape)\n",
        "x_test[0].shape\n",
        "for i in np.arange(0,25):\n",
        "  axes[i].imshow(x_test[i].reshape(28,28))\n",
        "  axes[i].set_title(f\"Prediction Class = {np.argmax(predicted_classes[i]):.1f}\\nTrue class = {y_test[i]}\")\n",
        "\n",
        "\n",
        "  axes[i].axis('off')\n",
        "\n",
        "plt.subplots_adjust(wspace=0.5)"
      ],
      "metadata": {
        "id": "QICJvoHc5aMd"
      },
      "execution_count": null,
      "outputs": []
    },
    {
      "cell_type": "code",
      "source": [
        "from vis.utils import utils"
      ],
      "metadata": {
        "id": "O1meuSVm5fkP"
      },
      "execution_count": null,
      "outputs": []
    },
    {
      "cell_type": "code",
      "source": [
        "# swap softmax layer with linear layer \n",
        "layer_idx = utils.find_layer_idx(model, 'predictions')\n",
        "model.layers[-1].activation = tf.keras.activations.linear\n",
        "model = utils.apply_modifications(model)"
      ],
      "metadata": {
        "id": "7Wn0ob0t5fhH"
      },
      "execution_count": null,
      "outputs": []
    },
    {
      "cell_type": "code",
      "source": [
        "!pip install tf-keras-vis"
      ],
      "metadata": {
        "id": "-btpM_9t5fcb"
      },
      "execution_count": null,
      "outputs": []
    },
    {
      "cell_type": "code",
      "source": [
        "from matplotlib import cm\n",
        "from tf_keras_vis.gradcam import Gradcam"
      ],
      "metadata": {
        "id": "yd043FdM5fWL"
      },
      "execution_count": null,
      "outputs": []
    },
    {
      "cell_type": "code",
      "source": [
        "gradCam = Gradcam(model, clone =True)"
      ],
      "metadata": {
        "id": "3JkNSe3h5mLP"
      },
      "execution_count": null,
      "outputs": []
    },
    {
      "cell_type": "code",
      "source": [
        "from matplotlib.pyplot import plt"
      ],
      "metadata": {
        "id": "tnbEf_XS5mIH"
      },
      "execution_count": null,
      "outputs": []
    },
    {
      "cell_type": "code",
      "source": [
        "from tf_keras_vis.utils.scores import CategoricalScore\n",
        "\n",
        "score = CategoricalScore([3, 8, 8 , 0])"
      ],
      "metadata": {
        "id": "1BDnrkjA5mFM"
      },
      "execution_count": null,
      "outputs": []
    },
    {
      "cell_type": "code",
      "source": [
        "input_classes = ['cat', 'ship', 'ship', 'airplain']"
      ],
      "metadata": {
        "id": "EaipwWJP5mCU"
      },
      "execution_count": null,
      "outputs": []
    },
    {
      "cell_type": "code",
      "source": [
        "type(x_test)"
      ],
      "metadata": {
        "id": "HiiETfD45l_L"
      },
      "execution_count": null,
      "outputs": []
    },
    {
      "cell_type": "code",
      "source": [
        "images = [x_test[0], x_test[1], x_test[2], x_test[3]]"
      ],
      "metadata": {
        "id": "fwLJ0JsV5umc"
      },
      "execution_count": null,
      "outputs": []
    },
    {
      "cell_type": "code",
      "source": [
        "y_test[3]"
      ],
      "metadata": {
        "id": "OvlZYE-T5uhB"
      },
      "execution_count": null,
      "outputs": []
    },
    {
      "cell_type": "code",
      "source": [
        "plt.imshow(x_test[100])\n",
        "# y_test[1]"
      ],
      "metadata": {
        "id": "lLOVM0ka5udu"
      },
      "execution_count": null,
      "outputs": []
    },
    {
      "cell_type": "code",
      "source": [
        "from tensorflow.keras.applications.vgg16 import preprocess_input"
      ],
      "metadata": {
        "id": "BX3mc-7M5ubE"
      },
      "execution_count": null,
      "outputs": []
    },
    {
      "cell_type": "code",
      "source": [
        "input_images = preprocess_input(images)"
      ],
      "metadata": {
        "id": "K1QbjO_J5uX7"
      },
      "execution_count": null,
      "outputs": []
    },
    {
      "cell_type": "code",
      "source": [
        "input_images"
      ],
      "metadata": {
        "id": "tzRkXE3N5uUh"
      },
      "execution_count": null,
      "outputs": []
    },
    {
      "cell_type": "code",
      "source": [
        "# plt.imshow(x_test[1])\n",
        "y_test[3]"
      ],
      "metadata": {
        "id": "-0VUgady555f"
      },
      "execution_count": null,
      "outputs": []
    },
    {
      "cell_type": "markdown",
      "source": [
        "Generate Heatmap"
      ],
      "metadata": {
        "id": "CDGSCKbk6fxa"
      }
    },
    {
      "cell_type": "code",
      "source": [
        "cam = gradCam(score, input_images, penultimate_layer=-1)"
      ],
      "metadata": {
        "id": "pVXeUDJp551t"
      },
      "execution_count": null,
      "outputs": []
    },
    {
      "cell_type": "markdown",
      "source": [
        "show generated images"
      ],
      "metadata": {
        "id": "Nig0jDn16CHv"
      }
    },
    {
      "cell_type": "code",
      "source": [
        "f, ax = plt.subplots(nrows = 1, ncols = 4, figsize=(12,4))\n",
        "for i, img_class in enumerate(input_classes):\n",
        "    heatmap = np.uint8(cm.jet(cam[i])[..., :4] * 255)\n",
        "    ax[i].set_title(img_class, fontsize=16)\n",
        "    ax[i].imshow(x_test[i])\n",
        "    ax[i].imshow(heatmap, cmap='jet', alpha=0.2) \n",
        "    ax[i].axis('off')\n",
        "plt.tight_layout()\n",
        "plt.show()"
      ],
      "metadata": {
        "id": "4FCWFXVf55zX"
      },
      "execution_count": null,
      "outputs": []
    },
    {
      "cell_type": "code",
      "source": [],
      "metadata": {
        "id": "otrc5ikE55wU"
      },
      "execution_count": null,
      "outputs": []
    },
    {
      "cell_type": "code",
      "source": [],
      "metadata": {
        "id": "OySjvE6755tL"
      },
      "execution_count": null,
      "outputs": []
    },
    {
      "cell_type": "code",
      "source": [],
      "metadata": {
        "id": "X9zC2xUQ55q1"
      },
      "execution_count": null,
      "outputs": []
    },
    {
      "cell_type": "code",
      "source": [],
      "metadata": {
        "id": "islcGu9655nt"
      },
      "execution_count": null,
      "outputs": []
    }
  ]
}